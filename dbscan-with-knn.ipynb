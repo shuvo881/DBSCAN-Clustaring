{
 "cells": [
  {
   "cell_type": "code",
   "execution_count": 1,
   "id": "fa35cf53",
   "metadata": {
    "_cell_guid": "b1076dfc-b9ad-4769-8c92-a6c4dae69d19",
    "_uuid": "8f2839f25d086af736a60e9eeb907d3b93b6e0e5",
    "execution": {
     "iopub.execute_input": "2023-05-26T06:17:24.926207Z",
     "iopub.status.busy": "2023-05-26T06:17:24.925722Z",
     "iopub.status.idle": "2023-05-26T06:17:24.939829Z",
     "shell.execute_reply": "2023-05-26T06:17:24.938978Z"
    },
    "papermill": {
     "duration": 0.023462,
     "end_time": "2023-05-26T06:17:24.942456",
     "exception": false,
     "start_time": "2023-05-26T06:17:24.918994",
     "status": "completed"
    },
    "tags": []
   },
   "outputs": [],
   "source": [
    "# This Python 3 environment comes with many helpful analytics libraries installed\n",
    "# It is defined by the kaggle/python Docker image: https://github.com/kaggle/docker-python\n",
    "# For example, here's several helpful packages to load\n",
    "\n",
    "import numpy as np # linear algebra\n",
    "import pandas as pd # data processing, CSV file I/O (e.g. pd.read_csv)\n",
    "\n",
    "# Input data files are available in the read-only \"../input/\" directory\n",
    "# For example, running this (by clicking run or pressing Shift+Enter) will list all files under the input directory\n",
    "\n",
    "import os\n",
    "for dirname, _, filenames in os.walk('/kaggle/input'):\n",
    "    for filename in filenames:\n",
    "        print(os.path.join(dirname, filename))\n",
    "\n",
    "# You can write up to 20GB to the current directory (/kaggle/working/) that gets preserved as output when you create a version using \"Save & Run All\" \n",
    "# You can also write temporary files to /kaggle/temp/, but they won't be saved outside of the current session"
   ]
  },
  {
   "cell_type": "markdown",
   "id": "64beaccb",
   "metadata": {
    "papermill": {
     "duration": 0.004332,
     "end_time": "2023-05-26T06:17:24.951604",
     "exception": false,
     "start_time": "2023-05-26T06:17:24.947272",
     "status": "completed"
    },
    "tags": []
   },
   "source": [
    "# Implementation of DBSCAN using KNN"
   ]
  },
  {
   "cell_type": "code",
   "execution_count": 2,
   "id": "006090d5",
   "metadata": {
    "execution": {
     "iopub.execute_input": "2023-05-26T06:17:24.963429Z",
     "iopub.status.busy": "2023-05-26T06:17:24.962542Z",
     "iopub.status.idle": "2023-05-26T06:17:26.862838Z",
     "shell.execute_reply": "2023-05-26T06:17:26.861445Z"
    },
    "papermill": {
     "duration": 1.909708,
     "end_time": "2023-05-26T06:17:26.865774",
     "exception": false,
     "start_time": "2023-05-26T06:17:24.956066",
     "status": "completed"
    },
    "tags": []
   },
   "outputs": [],
   "source": [
    "import numpy as np\n",
    "from sklearn.neighbors import NearestNeighbors\n",
    "\n",
    "class DBSCAN:\n",
    "    def __init__(self, eps, min_samples):\n",
    "        self.eps = eps\n",
    "        self.min_samples = min_samples\n",
    "        self.labels_ = None\n",
    "\n",
    "    def fit(self, X):\n",
    "        self.labels_ = np.zeros(len(X))  # Initialize cluster labels\n",
    "        cluster_id = 0  # Current cluster ID\n",
    "\n",
    "        # Iterate over each point in the dataset\n",
    "        for i in range(len(X)):\n",
    "            if self.labels_[i] != 0:  # Skip if point is already assigned to a cluster\n",
    "                continue\n",
    "\n",
    "            # Find the neighbors of the current point\n",
    "            neighbors = self._get_neighbors(X, i)\n",
    "            \n",
    "            print(\"Neighbors\", neighbors)\n",
    "\n",
    "            if len(neighbors) < self.min_samples:\n",
    "                # Assign point as noise (label = -1)\n",
    "                self.labels_[i] = -1\n",
    "            else:\n",
    "                cluster_id += 1\n",
    "                self._expand_cluster(X, i, neighbors, cluster_id)\n",
    "\n",
    "    def _get_neighbors(self, X, i):\n",
    "        # Calculate the Euclidean distances between the current point and all other points\n",
    "        distances = np.linalg.norm(X - X[i], axis=1)\n",
    "        # Find the indexes of points within epsilon distance\n",
    "        neighbors = np.where(distances <= self.eps)[0]\n",
    "        return neighbors\n",
    "\n",
    "    def _expand_cluster(self, X, i, neighbors, cluster_id):\n",
    "        # Assign current point to the cluster\n",
    "        self.labels_[i] = cluster_id\n",
    "\n",
    "        j = 0\n",
    "        while j < len(neighbors):\n",
    "            neighbor = neighbors[j]\n",
    "\n",
    "            if self.labels_[neighbor] == -1:  # Assign noise point to the cluster\n",
    "                self.labels_[neighbor] = cluster_id\n",
    "\n",
    "            elif self.labels_[neighbor] == 0:  # Expand cluster recursively\n",
    "                self.labels_[neighbor] = cluster_id\n",
    "                new_neighbors = self._get_neighbors(X, neighbor)\n",
    "\n",
    "                if len(new_neighbors) >= self.min_samples:\n",
    "                    neighbors = np.concatenate((neighbors, new_neighbors))\n",
    "\n",
    "            j += 1\n",
    "\n",
    "\n"
   ]
  },
  {
   "cell_type": "code",
   "execution_count": 3,
   "id": "a89357e3",
   "metadata": {
    "execution": {
     "iopub.execute_input": "2023-05-26T06:17:26.877163Z",
     "iopub.status.busy": "2023-05-26T06:17:26.876262Z",
     "iopub.status.idle": "2023-05-26T06:17:27.197630Z",
     "shell.execute_reply": "2023-05-26T06:17:27.196423Z"
    },
    "papermill": {
     "duration": 0.330097,
     "end_time": "2023-05-26T06:17:27.200459",
     "exception": false,
     "start_time": "2023-05-26T06:17:26.870362",
     "status": "completed"
    },
    "tags": []
   },
   "outputs": [
    {
     "data": {
      "image/png": "[encoded data removed]",
      "text/plain": [
       "<Figure size 640x480 with 1 Axes>"
      ]
     },
     "metadata": {},
     "output_type": "display_data"
    },
    {
     "name": "stdout",
     "output_type": "stream",
     "text": [
      "Neighbors [0 1 4]\n",
      "Neighbors [2]\n",
      "Neighbors [3]\n",
      "Neighbors [5]\n",
      "Cluster labels: [ 1.  1. -1. -1.  1. -1.]\n"
     ]
    }
   ],
   "source": [
    "import matplotlib.pyplot as plt\n",
    "\n",
    "# Usage example\n",
    "X = np.array([[1, 2], [1.5, 1.8], [5, 8], [8, 8], [1, 0], [9, 11]])\n",
    "plt.scatter(X[:,0], X[:,1])\n",
    "plt.show()\n",
    "eps = 2.0\n",
    "min_samples = 2\n",
    "\n",
    "dbscan = DBSCAN(eps, min_samples)\n",
    "dbscan.fit(X)\n",
    "\n",
    "print(\"Cluster labels:\", dbscan.labels_)"
   ]
  },
  {
   "cell_type": "code",
   "execution_count": 4,
   "id": "69664192",
   "metadata": {
    "execution": {
     "iopub.execute_input": "2023-05-26T06:17:27.212156Z",
     "iopub.status.busy": "2023-05-26T06:17:27.211315Z",
     "iopub.status.idle": "2023-05-26T06:17:27.339597Z",
     "shell.execute_reply": "2023-05-26T06:17:27.338005Z"
    },
    "papermill": {
     "duration": 0.137171,
     "end_time": "2023-05-26T06:17:27.342361",
     "exception": false,
     "start_time": "2023-05-26T06:17:27.205190",
     "status": "completed"
    },
    "tags": []
   },
   "outputs": [],
   "source": [
    "from sklearn.datasets import make_moons\n",
    "from sklearn import datasets\n",
    "import matplotlib.pyplot as plt\n",
    "import pandas as pd\n",
    "import numpy as np\n",
    "import random"
   ]
  },
  {
   "cell_type": "code",
   "execution_count": 5,
   "id": "76c6151e",
   "metadata": {
    "execution": {
     "iopub.execute_input": "2023-05-26T06:17:27.355049Z",
     "iopub.status.busy": "2023-05-26T06:17:27.353963Z",
     "iopub.status.idle": "2023-05-26T06:17:27.363425Z",
     "shell.execute_reply": "2023-05-26T06:17:27.362165Z"
    },
    "papermill": {
     "duration": 0.018251,
     "end_time": "2023-05-26T06:17:27.365958",
     "exception": false,
     "start_time": "2023-05-26T06:17:27.347707",
     "status": "completed"
    },
    "tags": []
   },
   "outputs": [],
   "source": [
    "X, y= make_moons(n_samples=500, noise=0.06, random_state=0)"
   ]
  },
  {
   "cell_type": "code",
   "execution_count": 6,
   "id": "62f2226f",
   "metadata": {
    "execution": {
     "iopub.execute_input": "2023-05-26T06:17:27.378243Z",
     "iopub.status.busy": "2023-05-26T06:17:27.377050Z",
     "iopub.status.idle": "2023-05-26T06:17:27.408978Z",
     "shell.execute_reply": "2023-05-26T06:17:27.407619Z"
    },
    "papermill": {
     "duration": 0.040432,
     "end_time": "2023-05-26T06:17:27.411331",
     "exception": false,
     "start_time": "2023-05-26T06:17:27.370899",
     "status": "completed"
    },
    "tags": []
   },
   "outputs": [
    {
     "name": "stdout",
     "output_type": "stream",
     "text": [
      "            X         Y\n",
      "0    0.385886  0.903598\n",
      "1   -0.114904  0.460881\n",
      "2    0.116865  0.100875\n",
      "3    1.758096 -0.123967\n",
      "4    1.911196 -0.127638\n",
      "..        ...       ...\n",
      "495  0.457700 -0.260282\n",
      "496 -0.772801  0.582962\n",
      "497 -0.072156  1.064630\n",
      "498  0.793919  0.531936\n",
      "499 -0.556170  0.741397\n",
      "\n",
      "[500 rows x 2 columns]\n"
     ]
    }
   ],
   "source": [
    "data = pd.DataFrame(dict(X=X[:, 0], Y=X[:, 1]))\n",
    "print(data)\n",
    "data = data.values\n"
   ]
  },
  {
   "cell_type": "code",
   "execution_count": 7,
   "id": "8bfeeb73",
   "metadata": {
    "execution": {
     "iopub.execute_input": "2023-05-26T06:17:27.422730Z",
     "iopub.status.busy": "2023-05-26T06:17:27.422264Z",
     "iopub.status.idle": "2023-05-26T06:17:27.465420Z",
     "shell.execute_reply": "2023-05-26T06:17:27.463441Z"
    },
    "papermill": {
     "duration": 0.05199,
     "end_time": "2023-05-26T06:17:27.468201",
     "exception": false,
     "start_time": "2023-05-26T06:17:27.416211",
     "status": "completed"
    },
    "tags": []
   },
   "outputs": [
    {
     "name": "stdout",
     "output_type": "stream",
     "text": [
      "Neighbors [  0  28  49  77 189 192 197 212 223 254 255 377 384 386 408 415 460 483]\n",
      "Neighbors [  1 205 232 243 349 494]\n",
      "Neighbors [8]\n",
      "Neighbors [36 80]\n",
      "Neighbors [82]\n",
      "Neighbors [104 159]\n",
      "Neighbors [163]\n",
      "Neighbors [325]\n",
      "Neighbors [396]\n",
      "Neighbors [426]\n",
      "Cluster labels: [ 1.  2.  2.  2.  2.  1.  2.  2. -1.  1.  1.  2.  2.  2.  1.  2.  2.  2.\n",
      "  1.  1.  1.  2.  1.  1.  1.  2.  1.  2.  1.  1.  2.  1.  1.  1.  2.  2.\n",
      "  2.  2.  2.  1.  2.  1.  2.  1.  1.  1.  1.  2.  2.  1.  2.  1.  2.  1.\n",
      "  1.  1.  2.  1.  1.  2.  1.  2.  2.  2.  2.  1.  1.  2.  2.  1.  1.  1.\n",
      "  2.  2.  1.  2.  2.  1.  2.  2. -1.  1. -1.  1.  2.  2.  2.  1.  2.  1.\n",
      "  1.  2.  2.  1.  1.  2.  1.  2.  1.  1.  1.  2.  1.  2. -1.  2.  1.  1.\n",
      "  2.  1.  2.  1.  1.  1.  2.  2.  2.  2.  1.  1.  2.  1.  1.  2.  2.  1.\n",
      "  1.  2.  2.  2.  2.  1.  2.  1.  2.  2.  2.  2.  2.  1.  1.  1.  1.  1.\n",
      "  2.  1.  2.  2.  1.  1.  1.  2.  1.  2.  1.  1.  1.  1.  2.  1.  2.  1.\n",
      "  1. -1.  1.  1.  2.  2.  2.  2.  2.  1.  2.  2.  2.  1.  2.  1.  2.  2.\n",
      "  2.  1.  1.  2.  1.  2.  2.  2.  2.  1.  2.  2.  1.  2.  2.  2.  2.  1.\n",
      "  1.  1.  1.  1.  1.  2.  1.  2.  1.  2.  1.  2.  2.  1.  1.  2.  1.  2.\n",
      "  1.  1.  1.  2.  1.  1.  1.  1.  2.  2.  1.  1.  1.  1.  2.  1.  2.  1.\n",
      "  2.  2.  2.  1.  1.  2.  1.  1.  2.  2.  2.  2.  2.  1.  1.  1.  2.  1.\n",
      "  1.  1.  1.  1.  1.  1.  2.  1.  1.  1.  2.  1.  2.  2.  2.  1.  1.  2.\n",
      "  2.  1.  2.  2.  1.  1.  1.  2.  2.  2.  1.  2.  1.  1.  1.  1.  2.  1.\n",
      "  1.  1.  1.  1.  1.  1.  2.  2.  1.  2.  2.  1.  2.  2.  1.  2.  2.  2.\n",
      "  1.  1.  1.  2.  2.  1.  1.  1.  1.  2.  1.  2.  1.  1.  2.  2.  2.  2.\n",
      "  2. -1.  2.  1.  2.  2.  2.  1.  2.  1.  2.  1.  2.  2.  1.  1.  2.  2.\n",
      "  2.  2.  2.  1.  2.  1.  2.  2.  1.  2.  1.  2.  1.  2.  1.  1.  2.  1.\n",
      "  1.  2.  2.  2.  1.  1.  1.  2.  1.  1.  1.  1.  2.  1.  1.  2.  2.  1.\n",
      "  2.  2.  2.  1.  2.  2.  1.  2.  1.  2.  1.  1.  2.  1.  2.  2.  1.  2.\n",
      " -1.  1.  1.  2.  1.  2.  1.  2.  2.  2.  2.  1.  1.  1.  2.  2.  2.  2.\n",
      "  2.  1.  1.  2.  1.  2.  2.  1.  2.  2.  2.  2. -1.  1.  2.  2.  2.  2.\n",
      "  1.  2.  1.  2.  2.  1.  2.  1.  1.  2.  1.  1.  1.  1.  1.  1.  1.  1.\n",
      "  2.  2.  2.  2.  2.  2.  1.  2.  2.  1.  1.  2.  2.  2.  2.  1.  1.  2.\n",
      "  1.  2.  2.  1.  2.  1.  1.  2.  2.  1.  2.  1.  1.  2.  2.  1.  2.  1.\n",
      "  1.  2.  1.  2.  1.  1.  2.  1.  2.  2.  1.  1.  1.  1.] 500\n"
     ]
    }
   ],
   "source": [
    "eps = 0.1\n",
    "min_samples = 5\n",
    "\n",
    "dbscan = DBSCAN(eps, min_samples)\n",
    "dbscan.fit(data)\n",
    "\n",
    "print(\"Cluster labels:\", dbscan.labels_, dbscan.labels_.size)"
   ]
  },
  {
   "cell_type": "markdown",
   "id": "f94ad562",
   "metadata": {
    "papermill": {
     "duration": 0.004728,
     "end_time": "2023-05-26T06:17:27.477960",
     "exception": false,
     "start_time": "2023-05-26T06:17:27.473232",
     "status": "completed"
    },
    "tags": []
   },
   "source": [
    "# Ploting the points\n",
    "# "
   ]
  },
  {
   "cell_type": "code",
   "execution_count": 8,
   "id": "0fcf7e09",
   "metadata": {
    "execution": {
     "iopub.execute_input": "2023-05-26T06:17:27.490071Z",
     "iopub.status.busy": "2023-05-26T06:17:27.489676Z",
     "iopub.status.idle": "2023-05-26T06:17:27.956235Z",
     "shell.execute_reply": "2023-05-26T06:17:27.954779Z"
    },
    "papermill": {
     "duration": 0.476393,
     "end_time": "2023-05-26T06:17:27.959232",
     "exception": false,
     "start_time": "2023-05-26T06:17:27.482839",
     "status": "completed"
    },
    "tags": []
   },
   "outputs": [
    {
     "name": "stdout",
     "output_type": "stream",
     "text": [
      "     idx  cluster\n",
      "0      0      1.0\n",
      "1      1      2.0\n",
      "2      2      2.0\n",
      "3      3      2.0\n",
      "4      4      2.0\n",
      "..   ...      ...\n",
      "495  495      2.0\n",
      "496  496      1.0\n",
      "497  497      1.0\n",
      "498  498      1.0\n",
      "499  499      1.0\n",
      "\n",
      "[500 rows x 2 columns]\n"
     ]
    },
    {
     "data": {
      "image/png": "[encoded data removed]",
      "text/plain": [
       "<Figure size 1000x700 with 1 Axes>"
      ]
     },
     "metadata": {},
     "output_type": "display_data"
    }
   ],
   "source": [
    "indx = [i for i in range(len(dbscan.labels_))]\n",
    "cluster =  dbscan.labels_\n",
    "\n",
    "\n",
    "cluster_df = pd.DataFrame(dict(idx=indx[:], cluster=cluster[:]))\n",
    "print(cluster_df)\n",
    "plt.figure(figsize=(10, 7))\n",
    "for clust in np.unique(cluster):\n",
    "    plt.scatter(X[cluster_df[\"idx\"][cluster_df[\"cluster\"] == clust].values, 0], X[cluster_df[\"idx\"][cluster_df[\"cluster\"] == clust].values, 1], s=10, label=f\"Cluster{clust}\")\n",
    "\n",
    "plt.legend([f\"Cluster {clust}\" for clust in np.unique(cluster)], loc=\"lower right\")\n",
    "plt.title('Clustered Data')\n",
    "plt.xlabel('X')\n",
    "plt.ylabel('Y')\n",
    "plt.show()"
   ]
  },
  {
   "cell_type": "code",
   "execution_count": null,
   "id": "872fe7db",
   "metadata": {
    "papermill": {
     "duration": 0.005922,
     "end_time": "2023-05-26T06:17:27.971165",
     "exception": false,
     "start_time": "2023-05-26T06:17:27.965243",
     "status": "completed"
    },
    "tags": []
   },
   "outputs": [],
   "source": []
  }
 ],
 "metadata": {
  "kernelspec": {
   "display_name": "Python 3",
   "language": "python",
   "name": "python3"
  },
  "language_info": {
   "codemirror_mode": {
    "name": "ipython",
    "version": 3
   },
   "file_extension": ".py",
   "mimetype": "text/x-python",
   "name": "python",
   "nbconvert_exporter": "python",
   "pygments_lexer": "ipython3",
   "version": "3.10.10"
  },
  "papermill": {
   "default_parameters": {},
   "duration": 17.613606,
   "end_time": "2023-05-26T06:17:29.101017",
   "environment_variables": {},
   "exception": null,
   "input_path": "__notebook__.ipynb",
   "output_path": "__notebook__.ipynb",
   "parameters": {},
   "start_time": "2023-05-26T06:17:11.487411",
   "version": "2.4.0"
  }
 },
 "nbformat": 4,
 "nbformat_minor": 5
}
